{
 "cells": [
  {
   "cell_type": "markdown",
   "metadata": {},
   "source": [
    "# Title: SIFT Missense Predictions for Genomes and 1000 Genomes Data\n",
    "# Course: MED263, \"Bioinformatics Applications To Human Disease\"\n",
    "# Preparer: Nathaniel Delos Santos"
   ]
  },
  {
   "cell_type": "markdown",
   "metadata": {},
   "source": [
    "# 1) Introduction\n",
    "In this practical, you are going to use linux command line tools, the SIFT4G Variant annotator, and data from the 1000 Genomes Project to predict deleterious missense mutations from human samples. Predicting variant deleteriousness is an important part of analyzing human genome variants in disease, because it provides insight into which genes have been affected by a variant, and how bad the effect might be.  \n",
    "After this tutorial, you should be able to:  \n",
    " - Download variant information from the Ensembl project\n",
    " - Download aligned sequence data from the 1000 Genomes project\n",
    " - Call variants from aligned sequence data\n",
    " - Annotate variants from aligned sequence data with deleteriousness and amino acid change predictions\n",
    " - Prioritize variants by a deleteriousness score\n",
    " - Perform data manipulation with basic command line tools in BASH"
   ]
  },
  {
   "cell_type": "markdown",
   "metadata": {},
   "source": [
    "## 1.1) Download SIFT 4G\n",
    "SIFT 4G, (Sorting Intolerant From Tolerant, For Genomes) uses variant calls to predict what amino acid substitutions occur, and how deleterious they are. SIFT 4G requires Java and a reference database to run. \n",
    "\n",
    "We will download SIFT 4G directly from their website at (http://sift.bii.a-star.edu.sg/sift4g/) using wget. Make sure wget is installed on your system."
   ]
  },
  {
   "cell_type": "code",
   "execution_count": null,
   "metadata": {
    "collapsed": false
   },
   "outputs": [],
   "source": [
    "%%bash\n",
    "wget -q http://sift.bii.a-star.edu.sg/sift4g/SIFT4G_Annotator_v2.4.jar"
   ]
  },
  {
   "cell_type": "markdown",
   "metadata": {},
   "source": [
    "## 1.2) Download Homo Sapiens Database (GRCh38.78) for SIFTG\n",
    "We must download the reference database for GRCh38, the newest version of the human genome reference available from Ensembl. We will download SIFT 4G's version of this database directly from their website. Make sure to choose GRCh38.78. Decompress the "
   ]
  },
  {
   "cell_type": "code",
   "execution_count": null,
   "metadata": {
    "collapsed": false
   },
   "outputs": [],
   "source": [
    "%%bash\n",
    "wget -q http://sift.bii.a-star.edu.sg/sift4g/public/Homo_sapiens/GRCh38.78.zip -O GRCh38.78.zip"
   ]
  },
  {
   "cell_type": "code",
   "execution_count": null,
   "metadata": {
    "collapsed": false
   },
   "outputs": [],
   "source": [
    "%%bash\n",
    "unzip GRCh38.78.zip"
   ]
  },
  {
   "cell_type": "markdown",
   "metadata": {},
   "source": [
    "## 1.3) SAMTools\n",
    "SAMTools is a general toolkit for use with aligned sequencing data. We will use it here to call variants from sequence alignments, using the 'samtools mpileup' command. We will install version 1.4 here, since the specific version matters for our purposes.\n",
    "Make sure that GCC and your build environment are up to date."
   ]
  },
  {
   "cell_type": "code",
   "execution_count": null,
   "metadata": {
    "collapsed": false
   },
   "outputs": [],
   "source": [
    "%%bash\n",
    "wget -q https://github.com/samtools/samtools/releases/download/1.4/samtools-1.4.tar.bz2 -O samtools-1.4.tar.bz2"
   ]
  },
  {
   "cell_type": "code",
   "execution_count": null,
   "metadata": {
    "collapsed": false
   },
   "outputs": [],
   "source": [
    "%%bash\n",
    "tar -vxjf samtools-1.4.tar.bz2\n",
    "cd samtools-1.4\n",
    "./configure\n",
    "make\n",
    "cd .."
   ]
  },
  {
   "cell_type": "markdown",
   "metadata": {},
   "source": [
    "## 1.4) BCFTools\n",
    "BCFTools is a general toolkit for use with variant call format (VCF) files. We will use it here to filter and query variants. We install version 1.4 here as we did for SAMTools"
   ]
  },
  {
   "cell_type": "code",
   "execution_count": null,
   "metadata": {
    "collapsed": false
   },
   "outputs": [],
   "source": [
    "%%bash\n",
    "wget -q https://github.com/samtools/bcftools/releases/download/1.4/bcftools-1.4.tar.bz2 -O bcftools-1.4.tar.bz2"
   ]
  },
  {
   "cell_type": "code",
   "execution_count": null,
   "metadata": {
    "collapsed": false
   },
   "outputs": [],
   "source": [
    "%%bash\n",
    "tar -vxjf bcftools-1.4.tar.bz2\n",
    "cd bcftools-1.4\n",
    "./configure\n",
    "make\n",
    "cd .."
   ]
  },
  {
   "cell_type": "markdown",
   "metadata": {},
   "source": [
    "# 2) Data"
   ]
  },
  {
   "cell_type": "markdown",
   "metadata": {},
   "source": [
    "## 2.1) Craig Venter Germline Variations\n",
    "Craig Venter's genome was among the first sequenced. These Variant Call Format (VCF) files summarize the variants observed in his genome from the GRCh38.78 reference."
   ]
  },
  {
   "cell_type": "code",
   "execution_count": null,
   "metadata": {
    "collapsed": false
   },
   "outputs": [],
   "source": [
    "%%bash\n",
    "wget -q http://ftp.ensembl.org/pub/release-78/variation/vcf/homo_sapiens/Venter.vcf.gz -O Venter.vcf.gz\n",
    "wget -q http://ftp.ensembl.org/pub/release-78/variation/vcf/homo_sapiens/Venter.vcf.gz.tbi -O Venter.vcf.gz.tbi"
   ]
  },
  {
   "cell_type": "markdown",
   "metadata": {},
   "source": [
    "## Question 1) \n",
    "How many variants are in the Venter VCF?"
   ]
  },
  {
   "cell_type": "markdown",
   "metadata": {},
   "source": [
    "## Answer 1)"
   ]
  },
  {
   "cell_type": "code",
   "execution_count": null,
   "metadata": {
    "collapsed": true
   },
   "outputs": [],
   "source": [
    "%%bash\n",
    "zcat Venter.vcf.gz|grep -v '#'|wc -l"
   ]
  },
  {
   "cell_type": "markdown",
   "metadata": {},
   "source": [
    "3266109 Variants"
   ]
  },
  {
   "cell_type": "markdown",
   "metadata": {},
   "source": [
    "## 2.2) James Watson Germline Variations\n",
    "James Watson is famous for discovering the double helix structure of DNA with Francis Crick. He has his own tribute in VCF format here."
   ]
  },
  {
   "cell_type": "code",
   "execution_count": null,
   "metadata": {
    "collapsed": false
   },
   "outputs": [],
   "source": [
    "%%bash\n",
    "wget -q http://ftp.ensembl.org/pub/release-78/variation/vcf/homo_sapiens/Watson.vcf.gz -O Watson.vcf.gz\n",
    "wget -q http://ftp.ensembl.org/pub/release-78/variation/vcf/homo_sapiens/Watson.vcf.gz.tbi -O Watson.vcf.gz.tbi"
   ]
  },
  {
   "cell_type": "markdown",
   "metadata": {},
   "source": [
    "## 2.3) 1000 Genomes human sample exome data\n",
    "The 1000 Genomes project was an international effort to catalog most variants with more than 1% frequency in the human population. It is a valuable source of human sequencing data. We will not be using the VCFs directly, but instead will be analyzing aligned sequences from a single human sample."
   ]
  },
  {
   "cell_type": "markdown",
   "metadata": {},
   "source": [
    "### 2.3.1) CRAM files\n",
    "CRAM files are compressed sequence alignment files that use delta compression from a reference to store sequence information, rather than containining the sequence data themselves. Therefore, we must download the CRAM file, CRAM index, and the corresponding reference files to use them."
   ]
  },
  {
   "cell_type": "code",
   "execution_count": null,
   "metadata": {
    "collapsed": false
   },
   "outputs": [],
   "source": [
    "%%bash\n",
    "wget -q ftp://ftp.1000genomes.ebi.ac.uk/vol1/ftp/data_collections/1000_genomes_project/data/CEU/NA06984/exome_alignment/NA06984.alt_bwamem_GRCh38DH.20150826.CEU.exome.cram -O NA06984.alt_bwamem_GRCh38DH.20150826.CEU.exome.cram\n",
    "wget -q ftp://ftp.1000genomes.ebi.ac.uk/vol1/ftp/data_collections/1000_genomes_project/data/CEU/NA06984/exome_alignment/NA06984.alt_bwamem_GRCh38DH.20150826.CEU.exome.cram.crai -O NA06984.alt_bwamem_GRCh38DH.20150826.CEU.exome.cram.crai"
   ]
  },
  {
   "cell_type": "markdown",
   "metadata": {},
   "source": [
    "The reference files for the CRAM file are downloaded below"
   ]
  },
  {
   "cell_type": "code",
   "execution_count": null,
   "metadata": {
    "collapsed": false
   },
   "outputs": [],
   "source": [
    "%%bash\n",
    "wget -q ftp://ftp.1000genomes.ebi.ac.uk/vol1/ftp/technical/reference/GRCh38_reference_genome/GRCh38_full_analysis_set_plus_decoy_hla.fa -O GRCh38_full_analysis_set_plus_decoy_hla.fa\n",
    "wget -q ftp://ftp.1000genomes.ebi.ac.uk/vol1/ftp/technical/reference/GRCh38_reference_genome/GRCh38_full_analysis_set_plus_decoy_hla.fa.fai -O GRCh38_full_analysis_set_plus_decoy_hla.fa.fai"
   ]
  },
  {
   "cell_type": "markdown",
   "metadata": {},
   "source": [
    "## Question 2)\n",
    "From the README provided by the 1000 Genomes Project (ftp://ftp.1000genomes.ebi.ac.uk/vol1/ftp/data_collections/1000_genomes_project/README.1000genomes.GRCh38DH.alignment) , what steps have already been performed for these CRAM files to make them ready for analysis?"
   ]
  },
  {
   "cell_type": "markdown",
   "metadata": {},
   "source": [
    "## Answer 2)\n",
    "1. Read alignment\n",
    "2. Local realignment around Indels\n",
    "3. Recalibration of base quality scores\n",
    "4. Marking of duplicate reads\n",
    "5. Merging multiple sequencing libraries into a single sample alignment file\n",
    "6. Lossless compression using CRAM"
   ]
  },
  {
   "cell_type": "markdown",
   "metadata": {},
   "source": [
    "# 3) Methods/Results\n",
    "We will now run SIFT4G to predict the deleteriousness of variants found in the Venter VCF."
   ]
  },
  {
   "cell_type": "markdown",
   "metadata": {},
   "source": [
    "## 3.1) Analysis of Craig Venter germline variants\n",
    "First we must decompress the gzipped VCF to an uncompressed VCF using zcat.\n",
    "\n",
    "SIFT4G is run using java, so we must call it using 'java -jar', passing the SIFT4G program as the '-jar' option. The '-c' option will run SIFT4G in command line mode, and the '-t' option will cause SIFT4G to output additional annotations for each transcript of a gene affected. The '-i' option specifies the input VCF, in this case 'Venter.vcf'. The '-d' option specifies the database we will be using, in this case the GRCh38.78 database. The '-r' option will determine where the results of the SIFT annotation will be located relative to our current directory."
   ]
  },
  {
   "cell_type": "code",
   "execution_count": null,
   "metadata": {
    "collapsed": true
   },
   "outputs": [],
   "source": [
    "%%bash\n",
    "zcat Venter.vcf.gz > Venter.vcf\n",
    "java -jar SIFT4G_Annotator_v2.4.jar -c -t -i Venter.vcf -d GRCh38.78  -r Venter.SIFT4G"
   ]
  },
  {
   "cell_type": "markdown",
   "metadata": {},
   "source": [
    "## Question 3)\n",
    "On Chromosome 17, how many variants are annotated? How many are unnannotated?"
   ]
  },
  {
   "cell_type": "markdown",
   "metadata": {},
   "source": [
    "## Answer 3)\n",
    "8831 annotated, 79089 unnannotated"
   ]
  },
  {
   "cell_type": "markdown",
   "metadata": {},
   "source": [
    "### 3.1.1 SIFT 4G Output\n",
    "The output of SIFT 4G includes a VCF file and an excel (.xls) file that describe the amino acid changes and the predicted deleteriousness of each variant. The excel file is formatted similarly to a tab-separated values file, with the exception of a carriage return ('\\r') before each new line. We will use this to navigate the SIFT 4G output."
   ]
  },
  {
   "cell_type": "markdown",
   "metadata": {},
   "source": [
    "## Question 4)\n",
    "How many columns Does the SIFT4G output contain? What does each column contain?"
   ]
  },
  {
   "cell_type": "markdown",
   "metadata": {},
   "source": [
    "## Answer 4)"
   ]
  },
  {
   "cell_type": "code",
   "execution_count": null,
   "metadata": {
    "collapsed": true
   },
   "outputs": [],
   "source": [
    "%%bash\n",
    "cat Venter.SIFT4G/Venter_SIFTannotations.xls|head -n1|tr '\\t' '\\n'|cat -n"
   ]
  },
  {
   "cell_type": "markdown",
   "metadata": {},
   "source": [
    "17 Columns, contents are described above."
   ]
  },
  {
   "cell_type": "markdown",
   "metadata": {},
   "source": [
    "## Question 5)\n",
    "How many deleterious (not 'Low confidence') variants are found from these variants?"
   ]
  },
  {
   "cell_type": "markdown",
   "metadata": {},
   "source": [
    "## Answer 5)"
   ]
  },
  {
   "cell_type": "code",
   "execution_count": null,
   "metadata": {
    "collapsed": true
   },
   "outputs": [],
   "source": [
    "%%bash\n",
    "cat Venter.SIFT4G/Venter_SIFTannotations.xls|tail -n+2 \\\n",
    "|grep 'DELETERIOUS'|grep -v 'Low confidence'|cut -f1,2,3,4 \\\n",
    "|sort|uniq|wc -l"
   ]
  },
  {
   "cell_type": "markdown",
   "metadata": {},
   "source": [
    "1561 deleterious variants."
   ]
  },
  {
   "cell_type": "markdown",
   "metadata": {},
   "source": [
    "## Question 6)\n",
    "How many genes have deleterious variants? Output the list of genes names into a file. Display the gene names."
   ]
  },
  {
   "cell_type": "markdown",
   "metadata": {},
   "source": [
    "## Answer 6)"
   ]
  },
  {
   "cell_type": "code",
   "execution_count": null,
   "metadata": {
    "collapsed": true
   },
   "outputs": [],
   "source": [
    "%%bash\n",
    "cat Venter.SIFT4G/Venter_SIFTannotations.xls|tail -n+2 \\\n",
    "|grep 'DELETERIOUS'|grep -v 'Low confidence'|cut -f7 \\\n",
    "|sort|uniq \\\n",
    "> Venter.SIFT4G.genes_with_deleterious_variants.txt\n",
    "wc -l Venter.SIFT4G.genes_with_deleterious_variants.txt\n",
    "cat Venter.SIFT4G.genes_with_deleterious_variants.txt"
   ]
  },
  {
   "cell_type": "markdown",
   "metadata": {},
   "source": [
    "1186 genes. Gene names listed above."
   ]
  },
  {
   "cell_type": "markdown",
   "metadata": {},
   "source": [
    "### 3.1.2) SIFT Scores\n",
    "SIFT scores less than 0.05 are considered deleterious. Anything greater is considered tolerated. Lower SIFT scores are considered more deleterious."
   ]
  },
  {
   "cell_type": "markdown",
   "metadata": {},
   "source": [
    "## Question 7)\n",
    "What is the lowest SIFT score of the deleterious variants?"
   ]
  },
  {
   "cell_type": "markdown",
   "metadata": {},
   "source": [
    "## Answer 7)"
   ]
  },
  {
   "cell_type": "code",
   "execution_count": null,
   "metadata": {
    "collapsed": true
   },
   "outputs": [],
   "source": [
    "%%bash\n",
    "cat Venter.SIFT4G/Venter_SIFTannotations.xls|tail -n+2 \\\n",
    "|grep 'DELETERIOUS'|grep -v 'Low confidence' \\\n",
    "|cut -f1,2,3,4,13 \\\n",
    "|sort|uniq \\\n",
    "|sort -k1,1 -k2,2n \\\n",
    "|sort -k5,5n \\\n",
    "|head"
   ]
  },
  {
   "cell_type": "markdown",
   "metadata": {},
   "source": [
    "0.0 is the lowest SIFT score."
   ]
  },
  {
   "cell_type": "markdown",
   "metadata": {},
   "source": [
    "## Question 8)\n",
    "What variants are annotated with the lowest SIFT score? Output the chromosome, coordinate, reference base, alternate base, gene name, reference amino acid, alternate amino acid, amino acid position, and sift score into a file. Display the first 10 lines of this file."
   ]
  },
  {
   "cell_type": "markdown",
   "metadata": {},
   "source": [
    "## Answer 8)"
   ]
  },
  {
   "cell_type": "code",
   "execution_count": null,
   "metadata": {
    "collapsed": true
   },
   "outputs": [],
   "source": [
    "%%bash\n",
    "cat Venter.SIFT4G/Venter_SIFTannotations.xls|cut -f1,2,3,4,7,10,11,12,13,17 \\\n",
    "|grep '^CHROM\\|DELETERIOUS'|grep -v 'Low confidence' \\\n",
    "|awk '($9==0.0)||$1==\"CHROM\"' \\\n",
    "> Venter.SIFT4G.sift_score_0.txt\n",
    "head -n10 Venter.SIFT4G.sift_score_0.txt"
   ]
  },
  {
   "cell_type": "markdown",
   "metadata": {},
   "source": [
    "## 3.2) Analysis of James Watson germline variants"
   ]
  },
  {
   "cell_type": "code",
   "execution_count": null,
   "metadata": {
    "collapsed": true
   },
   "outputs": [],
   "source": [
    "%%bash\n",
    "zcat Watson.vcf.gz > Watson.vcf\n",
    "java -jar SIFT4G_Annotator_v2.4.jar -c -t -i Watson.vcf -d GRCh38.78  -r Watson.SIFT4G"
   ]
  },
  {
   "cell_type": "markdown",
   "metadata": {},
   "source": [
    "## Question 9)\n",
    "On Chromosome 17, how many variants are annotated? How many are unnannotated?"
   ]
  },
  {
   "cell_type": "markdown",
   "metadata": {},
   "source": [
    "## Answer 9)\n",
    "8476 annotated, 82316 unnannotated"
   ]
  },
  {
   "cell_type": "markdown",
   "metadata": {},
   "source": [
    "## Question 10)\n",
    "How many deleterious (not 'Low confidence') variants are found from these variants?"
   ]
  },
  {
   "cell_type": "markdown",
   "metadata": {},
   "source": [
    "## Answer 10)"
   ]
  },
  {
   "cell_type": "code",
   "execution_count": null,
   "metadata": {
    "collapsed": true
   },
   "outputs": [],
   "source": [
    "%%bash\n",
    "cat Watson.SIFT4G/Watson_SIFTannotations.xls|tail -n+2 \\\n",
    "|grep 'DELETERIOUS'|grep -v 'Low confidence'|cut -f1,2,3,4 \\\n",
    "|sort|uniq|wc -l"
   ]
  },
  {
   "cell_type": "markdown",
   "metadata": {},
   "source": [
    "1970 deleterious variants."
   ]
  },
  {
   "cell_type": "markdown",
   "metadata": {},
   "source": [
    "## Question 11)\n",
    "How many genes have deleterious variants? Output the list of genes names into a file. Display the gene names."
   ]
  },
  {
   "cell_type": "markdown",
   "metadata": {},
   "source": [
    "## Answer 11)"
   ]
  },
  {
   "cell_type": "code",
   "execution_count": null,
   "metadata": {
    "collapsed": true
   },
   "outputs": [],
   "source": [
    "%%bash\n",
    "cat Watson.SIFT4G/Watson_SIFTannotations.xls|tail -n+2 \\\n",
    "|grep 'DELETERIOUS'|grep -v 'Low confidence'|cut -f7 \\\n",
    "|sort|uniq \\\n",
    "> Watson.SIFT4G.genes_with_deleterious_variants.txt\n",
    "wc -l Watson.SIFT4G.genes_with_deleterious_variants.txt\n",
    "cat Watson.SIFT4G.genes_with_deleterious_variants.txt"
   ]
  },
  {
   "cell_type": "markdown",
   "metadata": {},
   "source": [
    "1528 genes. Gene names listed above."
   ]
  },
  {
   "cell_type": "markdown",
   "metadata": {},
   "source": [
    "## Question 12)\n",
    "What genes do Craig Venter and James Watson both have deleterious variants in? How many genes is this?"
   ]
  },
  {
   "cell_type": "markdown",
   "metadata": {},
   "source": [
    "## Answer 12)"
   ]
  },
  {
   "cell_type": "code",
   "execution_count": null,
   "metadata": {
    "collapsed": true
   },
   "outputs": [],
   "source": [
    "%%bash\n",
    "join Venter.SIFT4G.genes_with_deleterious_variants.txt Watson.SIFT4G.genes_with_deleterious_variants.txt \\\n",
    "> Venter_and_Watson.SIFT4G.genes_with_deleterious_variants.txt\n",
    "wc -l Venter_and_Watson.SIFT4G.genes_with_deleterious_variants.txt\n",
    "cat Venter_and_Watson.SIFT4G.genes_with_deleterious_variants.txt"
   ]
  },
  {
   "cell_type": "markdown",
   "metadata": {},
   "source": [
    "Gene names provided above. 524 genes in common."
   ]
  },
  {
   "cell_type": "markdown",
   "metadata": {},
   "source": [
    "## Question 13)\n",
    "What is the lowest SIFT score of the deleterious variants?"
   ]
  },
  {
   "cell_type": "markdown",
   "metadata": {},
   "source": [
    "## Answer 13)"
   ]
  },
  {
   "cell_type": "code",
   "execution_count": null,
   "metadata": {
    "collapsed": true
   },
   "outputs": [],
   "source": [
    "%%bash\n",
    "cat Watson.SIFT4G/Watson_SIFTannotations.xls|tail -n+2 \\\n",
    "|grep 'DELETERIOUS'|grep -v 'Low confidence' \\\n",
    "|cut -f1,2,3,4,13 \\\n",
    "|sort|uniq \\\n",
    "|sort -k1,1 -k2,2n \\\n",
    "|sort -k5,5n \\\n",
    "|head"
   ]
  },
  {
   "cell_type": "markdown",
   "metadata": {},
   "source": [
    "0.0 is the lowest SIFT score."
   ]
  },
  {
   "cell_type": "markdown",
   "metadata": {},
   "source": [
    "## Question 14)\n",
    "What variants are annotated with the lowest SIFT score? Output the chromosome, coordinate, reference base, alternate base, gene name, reference amino acid, alternate amino acid, amino acid position, and sift score into a file. Display the first 10 lines of this file."
   ]
  },
  {
   "cell_type": "markdown",
   "metadata": {},
   "source": [
    "## Answer 14)"
   ]
  },
  {
   "cell_type": "code",
   "execution_count": null,
   "metadata": {
    "collapsed": true
   },
   "outputs": [],
   "source": [
    "%%bash\n",
    "cat Watson.SIFT4G/Watson_SIFTannotations.xls|cut -f1,2,3,4,7,10,11,12,13,17 \\\n",
    "|grep '^CHROM\\|DELETERIOUS'|grep -v 'Low confidence' \\\n",
    "|awk '($9==0.0)||$1==\"CHROM\"' \\\n",
    "> Watson.SIFT4G.sift_score_0.txt\n",
    "head -n10 Watson.SIFT4G.sift_score_0.txt"
   ]
  },
  {
   "cell_type": "markdown",
   "metadata": {},
   "source": [
    "## 3.3) Analysis of 1000 Genomes Sample Human Data"
   ]
  },
  {
   "cell_type": "markdown",
   "metadata": {},
   "source": [
    "### 3.3.1) Calling variants from aligned sequencing data\n",
    "The 1000 Genomes exome sequencing data for this sample is not yet in VCF format. We must use samtools mpileup and bcftools call to convert it.\n",
    "\n",
    "For samtools mpileup, we use the following options:\n",
    " - '-u' generate uncompressed VCF/BCF output. This saves time on compression and decompression, since we pipe to bcftools.\n",
    " - '-g' generate output in BCF format. This is a more compact binary format, ideal for transferring between programs.\n",
    " - '-f' the FASTA file used as reference for the CRAM file. Required to determine if something varies from the reference, and to decompress the CRAM data.\n",
    " \n",
    "For bcftools call, we use the following options to call variants:\n",
    " - '-f GQ,GP' output genotype quality and genotype probability. We care about GQ for filtering.\n",
    " - '-v' output variant sites only. We don't care about sites that match the reference.\n",
    " - '-m' we use the multiallelic caller, upon recommendation by the samtools website.\n",
    " - '-O v' output VCF formatted file.\n",
    " - '-o' output variants to the specified file\n",
    "\n",
    "We connect the output of samtools mpileup to the input of bcftools using a pipe '|'."
   ]
  },
  {
   "cell_type": "code",
   "execution_count": null,
   "metadata": {
    "collapsed": true
   },
   "outputs": [],
   "source": [
    "%%bash\n",
    "date\n",
    "samtools-1.4/samtools mpileup \\\n",
    "-ugf GRCh38_full_analysis_set_plus_decoy_hla.fa \\\n",
    "NA06984.alt_bwamem_GRCh38DH.20150826.CEU.exome.cram \\\n",
    "| bcftools-1.4/bcftools call \\\n",
    "-f GQ,GP \\\n",
    "-vmO v \\\n",
    "-o NA06984.alt_bwamem_GRCh38DH.20150826.CEU.exome.gq.gp.vcf\n",
    "date"
   ]
  },
  {
   "cell_type": "markdown",
   "metadata": {},
   "source": [
    "### 3.3.2) Filtering variants by read depth, quality, and genotype quality\n",
    "Not all variant calls are made equal. We want to avoid predicting the deleteriousness of variants that may not be real. So we use filtering to filter for the depth of sequencing at each variant coordinate, and the confidence the variant caller has in the variant. This is encapsulated in the DP, QUAL, and GQ fields.\n",
    "\n",
    "The command bcftools filter is used to implement these filters.\n",
    " - '-i' specifies an expression for variants to include.\n",
    " - 'INFO/DP>10': We want raw read depth to be greater than 10\n",
    " - 'QUAL>20': We want the quality of any variant called here to be greater than 20\n",
    " - 'FMT/GQ>20': We want the genotype to be called with a confidence greater than 20.\n",
    "\n",
    "We then combine these criteria using logical AND ('&&') to yield the final filter inclusion statement, '(QUAL>20)&&(INFO/DP>10)&&(FMT/GQ>20)'.\n",
    "\n",
    "For more details on DP, QUAL, and GQ, see the guide from GATK (http://gatkforums.broadinstitute.org/gatk/discussion/1268/what-is-a-vcf-and-how-should-i-interpret-it)."
   ]
  },
  {
   "cell_type": "code",
   "execution_count": null,
   "metadata": {
    "collapsed": true
   },
   "outputs": [],
   "source": [
    "%%bash\n",
    "date\n",
    "bcftools-1.4/bcftools filter -i '(QUAL>20)&&(INFO/DP>10)&&(FMT/GQ>20)' \\\n",
    "-O v \\\n",
    "-o NA06984.alt_bwamem_GRCh38DH.20150826.CEU.exome.qual_gt_20.dp_gt_10.gq_gt_20.vcf \\\n",
    "NA06984.alt_bwamem_GRCh38DH.20150826.CEU.exome.gq.gp.vcf\n",
    "date"
   ]
  },
  {
   "cell_type": "markdown",
   "metadata": {},
   "source": [
    "## Question 15)\n",
    "How many variants are in the VCF before filtering? How many after filtering?"
   ]
  },
  {
   "cell_type": "markdown",
   "metadata": {},
   "source": [
    "## Answer 15)"
   ]
  },
  {
   "cell_type": "code",
   "execution_count": null,
   "metadata": {
    "collapsed": true
   },
   "outputs": [],
   "source": [
    "%%bash\n",
    "cat NA06984.alt_bwamem_GRCh38DH.20150826.CEU.exome.gq.gp.vcf|grep -v '^#'|wc -l\n",
    "cat NA06984.alt_bwamem_GRCh38DH.20150826.CEU.exome.qual_gt_20.dp_gt_10.gq_gt_20.vcf|grep -v '^#'|wc -l"
   ]
  },
  {
   "cell_type": "markdown",
   "metadata": {},
   "source": [
    "2254572 variants before filtering.\n",
    "93617 variants after filtering."
   ]
  },
  {
   "cell_type": "markdown",
   "metadata": {},
   "source": [
    "### 3.3.3) Annotating variants with SIFT4G"
   ]
  },
  {
   "cell_type": "code",
   "execution_count": null,
   "metadata": {
    "collapsed": true
   },
   "outputs": [],
   "source": [
    "%%bash\n",
    "java -jar SIFT4G_Annotator_v2.4.jar -c -t \\\n",
    "-i NA06984.alt_bwamem_GRCh38DH.20150826.CEU.exome.qual_gt_20.dp_gt_10.gq_gt_20.vcf \\\n",
    "-d GRCh38.78  \\\n",
    "-r NA06984.alt_bwamem_GRCh38DH.20150826.CEU.exome.qual_gt_20.dp_gt_10.gq_gt_20.SIFT4G"
   ]
  },
  {
   "cell_type": "markdown",
   "metadata": {},
   "source": [
    "## Question 16)\n",
    "On Chromosome 17, how many variants are annotated? How many are unnannotated?"
   ]
  },
  {
   "cell_type": "markdown",
   "metadata": {},
   "source": [
    "## Answer 16)\n",
    "1571 annotated, 2169 unnannotated"
   ]
  },
  {
   "cell_type": "markdown",
   "metadata": {},
   "source": [
    "## Question 17)\n",
    "How many deleterious (not 'Low confidence') variants are found from these variants?"
   ]
  },
  {
   "cell_type": "markdown",
   "metadata": {},
   "source": [
    "## Answer 17)"
   ]
  },
  {
   "cell_type": "code",
   "execution_count": null,
   "metadata": {
    "collapsed": true
   },
   "outputs": [],
   "source": [
    "%%bash\n",
    "cat NA06984.alt_bwamem_GRCh38DH.20150826.CEU.exome.qual_gt_20.dp_gt_10.gq_gt_20.SIFT4G\\\n",
    "/NA06984.alt_bwamem_GRCh38DH.20150826.CEU.exome.qual_gt_20.dp_gt_10.gq_gt_20_SIFTannotations.xls|tail -n+2 \\\n",
    "|grep 'DELETERIOUS'|grep -v 'Low confidence'|cut -f1,2,3,4 \\\n",
    "|sort|uniq|wc -l"
   ]
  },
  {
   "cell_type": "markdown",
   "metadata": {},
   "source": [
    "1365 deleterious variants."
   ]
  },
  {
   "cell_type": "markdown",
   "metadata": {},
   "source": [
    "## Question 18)\n",
    "How many genes have deleterious variants? Output the list of genes names into a file. Display the gene names."
   ]
  },
  {
   "cell_type": "markdown",
   "metadata": {},
   "source": [
    "## Answer 18)"
   ]
  },
  {
   "cell_type": "code",
   "execution_count": null,
   "metadata": {
    "collapsed": true
   },
   "outputs": [],
   "source": [
    "%%bash\n",
    "cat NA06984.alt_bwamem_GRCh38DH.20150826.CEU.exome.qual_gt_20.dp_gt_10.gq_gt_20.SIFT4G\\\n",
    "/NA06984.alt_bwamem_GRCh38DH.20150826.CEU.exome.qual_gt_20.dp_gt_10.gq_gt_20_SIFTannotations.xls|tail -n+2 \\\n",
    "|grep 'DELETERIOUS'|grep -v 'Low confidence'|cut -f7 \\\n",
    "|sort|uniq \\\n",
    "> 1KGenomesSample.SIFT4G.genes_with_deleterious_variants.txt\n",
    "wc -l 1KGenomesSample.SIFT4G.genes_with_deleterious_variants.txt\n",
    "cat 1KGenomesSample.SIFT4G.genes_with_deleterious_variants.txt"
   ]
  },
  {
   "cell_type": "markdown",
   "metadata": {},
   "source": [
    "1154 genes. Gene names listed above."
   ]
  },
  {
   "cell_type": "markdown",
   "metadata": {},
   "source": [
    "## Question 19)\n",
    "What genes do Craig Venter, James Watson, and this 1000 Genomes sample All have deleterious variants in? How many genes is this?"
   ]
  },
  {
   "cell_type": "markdown",
   "metadata": {},
   "source": [
    "## Answer 19)"
   ]
  },
  {
   "cell_type": "code",
   "execution_count": null,
   "metadata": {
    "collapsed": false
   },
   "outputs": [],
   "source": [
    "%%bash\n",
    "join Venter_and_Watson.SIFT4G.genes_with_deleterious_variants.txt \\\n",
    "1KGenomesSample.SIFT4G.genes_with_deleterious_variants.txt \\\n",
    "> Venter_and_Watson_and_1KGenomesSample.SIFT4G.genes_with_deleterious_variants.txt\n",
    "wc -l Venter_and_Watson_and_1KGenomesSample.SIFT4G.genes_with_deleterious_variants.txt\n",
    "cat Venter_and_Watson_and_1KGenomesSample.SIFT4G.genes_with_deleterious_variants.txt"
   ]
  },
  {
   "cell_type": "markdown",
   "metadata": {},
   "source": [
    "Gene names provided above. 322 genes in common."
   ]
  },
  {
   "cell_type": "markdown",
   "metadata": {},
   "source": [
    "## Question 20)\n",
    "What is the lowest SIFT score of the deleterious variants?"
   ]
  },
  {
   "cell_type": "markdown",
   "metadata": {},
   "source": [
    "## Answer 20)"
   ]
  },
  {
   "cell_type": "code",
   "execution_count": null,
   "metadata": {
    "collapsed": false
   },
   "outputs": [],
   "source": [
    "%%bash\n",
    "cat NA06984.alt_bwamem_GRCh38DH.20150826.CEU.exome.qual_gt_20.dp_gt_10.gq_gt_20.SIFT4G\\\n",
    "/NA06984.alt_bwamem_GRCh38DH.20150826.CEU.exome.qual_gt_20.dp_gt_10.gq_gt_20_SIFTannotations.xls|tail -n+2 \\\n",
    "|grep 'DELETERIOUS'|grep -v 'Low confidence' \\\n",
    "|cut -f1,2,3,4,13 \\\n",
    "|sort|uniq \\\n",
    "|sort -k1,1 -k2,2n \\\n",
    "|sort -k5,5n \\\n",
    "|head"
   ]
  },
  {
   "cell_type": "markdown",
   "metadata": {},
   "source": [
    "0.0 is the lowest SIFT score."
   ]
  },
  {
   "cell_type": "markdown",
   "metadata": {},
   "source": [
    "## Question 21)\n",
    "What variants are annotated with the lowest SIFT score? Output the chromosome, coordinate, reference base, alternate base, gene name, reference amino acid, alternate amino acid, amino acid position, and sift score into a file. Display the first 10 lines of this file."
   ]
  },
  {
   "cell_type": "markdown",
   "metadata": {},
   "source": [
    "## Answer 21)"
   ]
  },
  {
   "cell_type": "code",
   "execution_count": null,
   "metadata": {
    "collapsed": false
   },
   "outputs": [],
   "source": [
    "%%bash\n",
    "cat NA06984.alt_bwamem_GRCh38DH.20150826.CEU.exome.qual_gt_20.dp_gt_10.gq_gt_20.SIFT4G\\\n",
    "/NA06984.alt_bwamem_GRCh38DH.20150826.CEU.exome.qual_gt_20.dp_gt_10.gq_gt_20_SIFTannotations.xls \\\n",
    "|cut -f1,2,3,4,7,10,11,12,13,17 \\\n",
    "|grep '^CHROM\\|DELETERIOUS'|grep -v 'Low confidence' \\\n",
    "|awk '($9==0.0)||$1==\"CHROM\"' \\\n",
    "> 1KGenomesSample.SIFT4G.sift_score_0.txt\n",
    "head -n10 1KGenomesSample.SIFT4G.sift_score_0.txt"
   ]
  },
  {
   "cell_type": "markdown",
   "metadata": {},
   "source": [
    "# 4) References\n",
    "1. Vaser R, Adusumalli S, Leng SN, Sikic M, Ng PC. SIFT missense predictions for genomes. Nat Protoc. 2016;11(1):1-9. (https://www.ncbi.nlm.nih.gov/pubmed/26633127)\n",
    "2. Aken BL, Achuthan P, Akanni W, et al. Ensembl 2017. Nucleic Acids Res. 2017;45(D1):D635-D642. (https://www.ncbi.nlm.nih.gov/pubmed/27899575)\n",
    "3. Auton A, Brooks LD, Durbin RM, et al. A global reference for human genetic variation. Nature. 2015;526(7571):68-74. (https://www.ncbi.nlm.nih.gov/pubmed/26432245)\n",
    "4. Li H, Handsaker B, Wysoker A, et al. The Sequence Alignment/Map format and SAMtools. Bioinformatics. 2009;25(16):2078-9. (https://www.ncbi.nlm.nih.gov/pubmed/19505943)\n",
    "5. Li H. A statistical framework for SNP calling, mutation discovery, association mapping and population genetical parameter estimation from sequencing data. Bioinformatics. 2011;27(21):2987-93. (https://www.ncbi.nlm.nih.gov/pubmed/21903627)\n"
   ]
  }
 ],
 "metadata": {
  "kernelspec": {
   "display_name": "Python 3",
   "language": "python",
   "name": "python3"
  },
  "language_info": {
   "codemirror_mode": {
    "name": "ipython",
    "version": 3
   },
   "file_extension": ".py",
   "mimetype": "text/x-python",
   "name": "python",
   "nbconvert_exporter": "python",
   "pygments_lexer": "ipython3",
   "version": "3.5.2"
  }
 },
 "nbformat": 4,
 "nbformat_minor": 2
}
